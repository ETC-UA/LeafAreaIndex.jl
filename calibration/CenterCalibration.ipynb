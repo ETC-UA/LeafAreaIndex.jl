{
 "cells": [
  {
   "cell_type": "markdown",
   "metadata": {},
   "source": [
    "This worksheet shows how to calibrate the lens center for a camera+lens setup. Each combination of a lens and camera is assumed to be unique and every lens center should be calibrated. \n",
    "\n",
    "Luckily this is a straightforward procedure, taken from the [CAN-EYE user guide](http://www6.paca.inra.fr/can-eye/Documentation-Publications/Documentation). Dril 3-4 small holes in your lens cap (or prick an aluminium foil well attached to a lens ring) and take a picture for each rotation. Because coordinates of the dots in the pictures should lie on circle, the lens center can be calculated."
   ]
  },
  {
   "cell_type": "markdown",
   "metadata": {},
   "source": [
    "The point coordinates can measured manually eg. with [paint.net](http://www.getpaint.net) or with the ImageView package in Julia.\n",
    "\n",
    "Note the coordinates (x,y) according to standard image coordinates, which are different from normal cartesian (right handed) coordinates because it start on the upper left on the image.\n",
    "\n",
    "The upper left pixel of the image is (1,1), the lower left is (1, height) and upper right pixel then (width,1)."
   ]
  },
  {
   "cell_type": "markdown",
   "metadata": {},
   "source": [
    "Create a dataframe with 3 columns with resp. the x-coordinates, corresponding y-coordinates and a tag (eg a number) for each dot/circle."
   ]
  },
  {
   "cell_type": "code",
   "execution_count": 4,
   "metadata": {
    "collapsed": false,
    "scrolled": true
   },
   "outputs": [
    {
     "data": {
      "text/html": [
       "<table class=\"data-frame\"><tr><th></th><th>x</th><th>y</th><th>circle</th></tr><tr><th>1</th><td>2375</td><td>1718</td><td>1</td></tr><tr><th>2</th><td>2392</td><td>2361</td><td>1</td></tr><tr><th>3</th><td>2855</td><td>2689</td><td>1</td></tr><tr><th>4</th><td>3448</td><td>2546</td><td>1</td></tr><tr><th>5</th><td>3678</td><td>2181</td><td>1</td></tr><tr><th>6</th><td>3645</td><td>1738</td><td>1</td></tr><tr><th>7</th><td>3313</td><td>1390</td><td>1</td></tr><tr><th>8</th><td>2658</td><td>1319</td><td>1</td></tr><tr><th>9</th><td>2301</td><td>1468</td><td>2</td></tr><tr><th>10</th><td>2157</td><td>2277</td><td>2</td></tr><tr><th>11</th><td>2635</td><td>2815</td><td>2</td></tr><tr><th>12</th><td>3409</td><td>2802</td><td>2</td></tr><tr><th>13</th><td>3790</td><td>2407</td><td>2</td></tr><tr><th>14</th><td>3873</td><td>1851</td><td>2</td></tr><tr><th>15</th><td>3567</td><td>1327</td><td>2</td></tr><tr><th>16</th><td>2780</td><td>1153</td><td>2</td></tr><tr><th>17</th><td>2282</td><td>1264</td><td>3</td></tr><tr><th>18</th><td>1975</td><td>2170</td><td>3</td></tr><tr><th>19</th><td>2434</td><td>2874</td><td>3</td></tr><tr><th>20</th><td>3333</td><td>2995</td><td>3</td></tr><tr><th>21</th><td>3449</td><td>2612</td><td>3</td></tr><tr><th>22</th><td>4040</td><td>1978</td><td>3</td></tr><tr><th>23</th><td>3777</td><td>1317</td><td>3</td></tr><tr><th>24</th><td>2896</td><td>980</td><td>3</td></tr><tr><th>25</th><td>2287</td><td>1119</td><td>4</td></tr><tr><th>26</th><td>1862</td><td>2081</td><td>4</td></tr><tr><th>27</th><td>2293</td><td>2906</td><td>4</td></tr><tr><th>28</th><td>3268</td><td>3122</td><td>4</td></tr><tr><th>29</th><td>3872</td><td>2751</td><td>4</td></tr><tr><th>30</th><td>4140</td><td>2079</td><td>4</td></tr><tr><th>&vellip;</th><td>&vellip;</td><td>&vellip;</td><td>&vellip;</td></tr></table>"
      ],
      "text/plain": [
       "32x3 DataFrame\n",
       "| Row | x    | y    | circle |\n",
       "|-----|------|------|--------|\n",
       "| 1   | 2375 | 1718 | 1      |\n",
       "| 2   | 2392 | 2361 | 1      |\n",
       "| 3   | 2855 | 2689 | 1      |\n",
       "| 4   | 3448 | 2546 | 1      |\n",
       "| 5   | 3678 | 2181 | 1      |\n",
       "| 6   | 3645 | 1738 | 1      |\n",
       "| 7   | 3313 | 1390 | 1      |\n",
       "| 8   | 2658 | 1319 | 1      |\n",
       "| 9   | 2301 | 1468 | 2      |\n",
       "| 10  | 2157 | 2277 | 2      |\n",
       "| 11  | 2635 | 2815 | 2      |\n",
       "⋮\n",
       "| 21  | 3449 | 2612 | 3      |\n",
       "| 22  | 4040 | 1978 | 3      |\n",
       "| 23  | 3777 | 1317 | 3      |\n",
       "| 24  | 2896 | 980  | 3      |\n",
       "| 25  | 2287 | 1119 | 4      |\n",
       "| 26  | 1862 | 2081 | 4      |\n",
       "| 27  | 2293 | 2906 | 4      |\n",
       "| 28  | 3268 | 3122 | 4      |\n",
       "| 29  | 3872 | 2751 | 4      |\n",
       "| 30  | 4140 | 2079 | 4      |\n",
       "| 31  | 3916 | 1328 | 4      |\n",
       "| 32  | 2987 | 868  | 4      |"
      ]
     },
     "execution_count": 4,
     "metadata": {},
     "output_type": "execute_result"
    }
   ],
   "source": [
    "using DataFrames\n",
    "df = readtable(\"centercalibration.csv\", names=[:x, :y, :circle])"
   ]
  },
  {
   "cell_type": "code",
   "execution_count": 5,
   "metadata": {
    "collapsed": false
   },
   "outputs": [],
   "source": [
    "using LeafAreaIndex"
   ]
  },
  {
   "cell_type": "code",
   "execution_count": 6,
   "metadata": {
    "collapsed": false
   },
   "outputs": [
    {
     "data": {
      "text/plain": [
       "2-element Array{Int64,1}:\n",
       " 2974\n",
       " 2009"
      ]
     },
     "execution_count": 6,
     "metadata": {},
     "output_type": "execute_result"
    }
   ],
   "source": [
    "calibrate_center(df, 4020, 6036)"
   ]
  },
  {
   "cell_type": "code",
   "execution_count": null,
   "metadata": {
    "collapsed": true
   },
   "outputs": [],
   "source": []
  }
 ],
 "metadata": {
  "kernelspec": {
   "display_name": "Julia 0.3.11",
   "language": "julia",
   "name": "julia-0.3"
  },
  "language_info": {
   "name": "julia",
   "version": "0.3.11"
  }
 },
 "nbformat": 4,
 "nbformat_minor": 0
}
