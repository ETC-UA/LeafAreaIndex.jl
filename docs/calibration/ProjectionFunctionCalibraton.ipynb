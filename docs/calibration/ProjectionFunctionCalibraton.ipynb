{
 "cells": [
  {
   "cell_type": "markdown",
   "metadata": {},
   "source": [
    "With [ImageView](https://github.com/timholy/ImageView.jl) you can easily note the (x,y) coordinates of the measurements in the calibration pictures.\n",
    "\n",
    "We refer to the excellent [CAN-EYE user guide](http://www6.paca.inra.fr/can-eye/Documentation-Publications/Documentation) for the calibration setup."
   ]
  },
  {
   "cell_type": "code",
   "execution_count": 1,
   "metadata": {
    "collapsed": false
   },
   "outputs": [],
   "source": [
    "using Images, ImageView"
   ]
  },
  {
   "cell_type": "code",
   "execution_count": 2,
   "metadata": {
    "collapsed": false
   },
   "outputs": [
    {
     "name": "stdout",
     "output_type": "stream",
     "text": [
      "RGB Image with:\n",
      "  data: 6000x4000 Array{RGB{UfixedBase{Uint8,8}},2}\n",
      "  properties:\n",
      "    IMcs: sRGB\n",
      "    spatialorder:  x y\n",
      "    pixelspacing:  1 1"
     ]
    }
   ],
   "source": [
    "im1 = imread(\"20dist.JPG\")\n",
    "im2 = imread(\"25dist.JPG\")\n",
    "show(im2)"
   ]
  },
  {
   "cell_type": "code",
   "execution_count": 3,
   "metadata": {
    "collapsed": false
   },
   "outputs": [
    {
     "data": {
      "text/plain": [
       "(ImageCanvas,ImageSlice2d: zoom = BoundingBox(0.0,6000.0,0.0,4000.0))"
      ]
     },
     "execution_count": 3,
     "metadata": {},
     "output_type": "execute_result"
    }
   ],
   "source": [
    "view(im2)\n",
    "view(im2)"
   ]
  },
  {
   "cell_type": "code",
   "execution_count": null,
   "metadata": {
    "collapsed": false
   },
   "outputs": [],
   "source": [
    "using DataFrames"
   ]
  },
  {
   "cell_type": "markdown",
   "metadata": {},
   "source": [
    "Note down the x pixels coordinate at half height for each measurement. See `lenscalibration.csv` for an exmple."
   ]
  },
  {
   "cell_type": "code",
   "execution_count": 5,
   "metadata": {
    "collapsed": false,
    "scrolled": true
   },
   "outputs": [
    {
     "name": "stderr",
     "output_type": "stream",
     "text": [
      "\n",
      "before the new definition.\n"
     ]
    },
    {
     "data": {
      "text/html": [
       "<table class=\"data-frame\"><tr><th></th><th>ruler_cm</th><th>x_pic_pixels</th><th>H_Lens_distance</th><th>position</th></tr><tr><th>1</th><td>19</td><td>1405</td><td>20</td><td>left</td></tr><tr><th>2</th><td>18</td><td>1460</td><td>20</td><td>left</td></tr><tr><th>3</th><td>17</td><td>1518</td><td>20</td><td>left</td></tr><tr><th>4</th><td>16</td><td>1572</td><td>20</td><td>left</td></tr><tr><th>5</th><td>15</td><td>1632</td><td>20</td><td>left</td></tr><tr><th>6</th><td>14</td><td>1688</td><td>20</td><td>left</td></tr><tr><th>7</th><td>13</td><td>1745</td><td>20</td><td>left</td></tr><tr><th>8</th><td>12</td><td>1799</td><td>20</td><td>left</td></tr><tr><th>9</th><td>11</td><td>1850</td><td>20</td><td>left</td></tr><tr><th>10</th><td>10</td><td>1897</td><td>20</td><td>left</td></tr><tr><th>11</th><td>9</td><td>1945</td><td>20</td><td>left</td></tr><tr><th>12</th><td>8</td><td>1991</td><td>20</td><td>left</td></tr><tr><th>13</th><td>7</td><td>2031</td><td>20</td><td>left</td></tr><tr><th>14</th><td>6</td><td>2071</td><td>20</td><td>left</td></tr><tr><th>15</th><td>5</td><td>2108</td><td>20</td><td>left</td></tr><tr><th>16</th><td>4</td><td>2142</td><td>20</td><td>left</td></tr><tr><th>17</th><td>3</td><td>2172</td><td>20</td><td>left</td></tr><tr><th>18</th><td>2</td><td>2203</td><td>20</td><td>left</td></tr><tr><th>19</th><td>1</td><td>2232</td><td>20</td><td>left</td></tr><tr><th>20</th><td>19</td><td>4506</td><td>20</td><td>right</td></tr><tr><th>21</th><td>18</td><td>4452</td><td>20</td><td>right</td></tr><tr><th>22</th><td>17</td><td>4396</td><td>20</td><td>right</td></tr><tr><th>23</th><td>16</td><td>4342</td><td>20</td><td>right</td></tr><tr><th>24</th><td>15</td><td>4285</td><td>20</td><td>right</td></tr><tr><th>25</th><td>14</td><td>4227</td><td>20</td><td>right</td></tr><tr><th>26</th><td>13</td><td>4177</td><td>20</td><td>right</td></tr><tr><th>27</th><td>12</td><td>4120</td><td>20</td><td>right</td></tr><tr><th>28</th><td>11</td><td>4069</td><td>20</td><td>right</td></tr><tr><th>29</th><td>10</td><td>4021</td><td>20</td><td>right</td></tr><tr><th>30</th><td>9</td><td>3985</td><td>20</td><td>right</td></tr><tr><th>&vellip;</th><td>&vellip;</td><td>&vellip;</td><td>&vellip;</td><td>&vellip;</td></tr></table>"
      ],
      "text/plain": [
       "151x4 DataFrame\n",
       "| Row | ruler_cm | x_pic_pixels | H_Lens_distance | position        |\n",
       "|-----|----------|--------------|-----------------|-----------------|\n",
       "| 1   | 19       | 1405         | 20              | \"left\"          |\n",
       "| 2   | 18       | 1460         | 20              | \"left\"          |\n",
       "| 3   | 17       | 1518         | 20              | \"left\"          |\n",
       "| 4   | 16       | 1572         | 20              | \"left\"          |\n",
       "| 5   | 15       | 1632         | 20              | \"left\"          |\n",
       "| 6   | 14       | 1688         | 20              | \"left\"          |\n",
       "| 7   | 13       | 1745         | 20              | \"left\"          |\n",
       "| 8   | 12       | 1799         | 20              | \"left\"          |\n",
       "| 9   | 11       | 1850         | 20              | \"left\"          |\n",
       "| 10  | 10       | 1897         | 20              | \"left\"          |\n",
       "| 11  | 9        | 1945         | 20              | \"left\"          |\n",
       "⋮\n",
       "| 140 | 4        | 3149         | 25              | \"perpendicular\" |\n",
       "| 141 | 5        | 3188         | 25              | \"perpendicular\" |\n",
       "| 142 | 6        | 3231         | 25              | \"perpendicular\" |\n",
       "| 143 | 7        | 3271         | 25              | \"perpendicular\" |\n",
       "| 144 | 8        | 3310         | 25              | \"perpendicular\" |\n",
       "| 145 | 9        | 3350         | 25              | \"perpendicular\" |\n",
       "| 146 | 10       | 3390         | 25              | \"perpendicular\" |\n",
       "| 147 | 11       | 3428         | 25              | \"perpendicular\" |\n",
       "| 148 | 12       | 3460         | 25              | \"perpendicular\" |\n",
       "| 149 | 13       | 3491         | 25              | \"perpendicular\" |\n",
       "| 150 | 14       | 3521         | 25              | \"perpendicular\" |\n",
       "| 151 | 15       | 3557         | 25              | \"perpendicular\" |"
      ]
     },
     "execution_count": 5,
     "metadata": {},
     "output_type": "execute_result"
    }
   ],
   "source": [
    "lens = readtable(\"lenscalibration.csv\")"
   ]
  },
  {
   "cell_type": "code",
   "execution_count": 6,
   "metadata": {
    "collapsed": false
   },
   "outputs": [
    {
     "data": {
      "text/plain": [
       "(20,25)"
      ]
     },
     "execution_count": 6,
     "metadata": {},
     "output_type": "execute_result"
    }
   ],
   "source": [
    "H1, H2 = extrema(lens[:H_Lens_distance])"
   ]
  },
  {
   "cell_type": "code",
   "execution_count": 7,
   "metadata": {
    "collapsed": false
   },
   "outputs": [
    {
     "data": {
      "text/plain": [
       "2963"
      ]
     },
     "execution_count": 7,
     "metadata": {},
     "output_type": "execute_result"
    }
   ],
   "source": [
    "center1 = lens[(lens[:position].==\"perpendicular\") & (lens[:ruler_cm] .== 0\n",
    "                ) & (lens[:H_Lens_distance] .== H1), :x_pic_pixels][1]"
   ]
  },
  {
   "cell_type": "code",
   "execution_count": 8,
   "metadata": {
    "collapsed": false
   },
   "outputs": [
    {
     "data": {
      "text/plain": [
       "2976"
      ]
     },
     "execution_count": 8,
     "metadata": {},
     "output_type": "execute_result"
    }
   ],
   "source": [
    "center2 = lens[(lens[:position].==\"perpendicular\") & (lens[:ruler_cm] .== 0\n",
    "                ) & (lens[:H_Lens_distance] .== H2), :x_pic_pixels][1]"
   ]
  },
  {
   "cell_type": "markdown",
   "metadata": {},
   "source": [
    "We use 2 pictures at different distances `H1, H2` from the perpendicular ruler to estimate the distance to the perpendicular ruler more precisely than with a physical ruler during setup. Alternatively you can use a single image from a (much) larger calibration setup, eg a ruler on the ceiling and across the side walls.\n",
    "\n",
    "We first estimate more correctly the distance difference $\\Delta$ between im1 and im2 by noticing that the shift on the lateral rulers between the two pictures is equal to $\\Delta$."
   ]
  },
  {
   "cell_type": "code",
   "execution_count": 9,
   "metadata": {
    "collapsed": false
   },
   "outputs": [
    {
     "data": {
      "text/plain": [
       "interpol (generic function with 1 method)"
      ]
     },
     "execution_count": 9,
     "metadata": {},
     "output_type": "execute_result"
    }
   ],
   "source": [
    "# auxilary function to interpolate a pixel from image 1 to the ruler of image 2\n",
    "function interpol(x, df2, center2)\n",
    "\n",
    "    # suffix 2 is for second image with H2\n",
    "    s2 = sort(df2, cols=:x_pic_pixels)\n",
    "    x2 = s2[:x_pic_pixels] - center2\n",
    "    cm2 = s2[:ruler_cm]        \n",
    "\n",
    "    if (x < minimum(x2)) | (x > maximum(x2))\n",
    "        return(nan(Float64))\n",
    "    end\n",
    "\n",
    "    ind = searchsortedfirst(x2, x)    \n",
    "    out = cm2[ind] - (x2[ind] - x)/(x2[ind]-x2[ind-1])*(cm2[ind]-cm2[ind-1])\n",
    "end"
   ]
  },
  {
   "cell_type": "code",
   "execution_count": 10,
   "metadata": {
    "collapsed": false
   },
   "outputs": [
    {
     "data": {
      "text/plain": [
       "fitΔ (generic function with 1 method)"
      ]
     },
     "execution_count": 10,
     "metadata": {},
     "output_type": "execute_result"
    }
   ],
   "source": [
    "# fitting function to optimize Δ\n",
    "function fitΔ(Δ, df1, df2, center1, center2; errfun::Function=x->x^2)\n",
    "    diffs = Float64[]\n",
    "    for row = 1:size(df1, 1)\n",
    "        x = df1[row, :x_pic_pixels] - center1\n",
    "        cm2 = interpol(x, df2, center2)\n",
    "        !isnan(cm2) && push!(diffs, cm2 - df1[row, :ruler_cm] - Δ)\n",
    "    end\n",
    "    s = sum(map(errfun,diffs))        \n",
    "    return s\n",
    "end"
   ]
  },
  {
   "cell_type": "code",
   "execution_count": 11,
   "metadata": {
    "collapsed": false
   },
   "outputs": [
    {
     "data": {
      "text/plain": [
       "5"
      ]
     },
     "execution_count": 11,
     "metadata": {},
     "output_type": "execute_result"
    }
   ],
   "source": [
    "# starting point for optimization\n",
    "Δinit = H2 - H1"
   ]
  },
  {
   "cell_type": "code",
   "execution_count": 12,
   "metadata": {
    "collapsed": true
   },
   "outputs": [],
   "source": [
    "using Optim"
   ]
  },
  {
   "cell_type": "code",
   "execution_count": 13,
   "metadata": {
    "collapsed": false
   },
   "outputs": [
    {
     "data": {
      "text/plain": [
       "Results of Optimization Algorithm\n",
       " * Algorithm: Brent's Method\n",
       " * Search Interval: [2.500000, 7.500000]\n",
       " * Minimum: 5.451314\n",
       " * Value of Function at Minimum: 1.286501\n",
       " * Iterations: 5\n",
       " * Convergence: max(|x - x_upper|, |x - x_lower|) <= 2*(1.5e-08*|x|+2.2e-16): true\n",
       " * Objective Function Calls: 6\n"
      ]
     },
     "execution_count": 13,
     "metadata": {},
     "output_type": "execute_result"
    }
   ],
   "source": [
    "left1 = lens[(lens[:position].==\"left\") & (lens[:H_Lens_distance] .== H1),:]\n",
    "left2 = lens[(lens[:position].==\"left\") & (lens[:H_Lens_distance] .== H2),:]\n",
    "resleft = optimize(Δ -> fitΔ(Δ,left1,left2,center1,center2), Δinit/2, Δinit*3/2)"
   ]
  },
  {
   "cell_type": "code",
   "execution_count": 14,
   "metadata": {
    "collapsed": false
   },
   "outputs": [
    {
     "data": {
      "text/plain": [
       "Results of Optimization Algorithm\n",
       " * Algorithm: Brent's Method\n",
       " * Search Interval: [2.500000, 7.500000]\n",
       " * Minimum: 5.790339\n",
       " * Value of Function at Minimum: 0.165669\n",
       " * Iterations: 5\n",
       " * Convergence: max(|x - x_upper|, |x - x_lower|) <= 2*(1.5e-08*|x|+2.2e-16): true\n",
       " * Objective Function Calls: 6\n"
      ]
     },
     "execution_count": 14,
     "metadata": {},
     "output_type": "execute_result"
    }
   ],
   "source": [
    "right1 = lens[(lens[:position].==\"right\") & (lens[:H_Lens_distance] .== H1),:]\n",
    "right2 = lens[(lens[:position].==\"right\") & (lens[:H_Lens_distance] .== H2),:]\n",
    "resright = optimize(Δ -> fitΔ(Δ,right1,right2,center1,center2), Δinit/2, Δinit*3/2)"
   ]
  },
  {
   "cell_type": "code",
   "execution_count": 15,
   "metadata": {
    "collapsed": false
   },
   "outputs": [
    {
     "data": {
      "text/plain": [
       "5.620826421801778"
      ]
     },
     "execution_count": 15,
     "metadata": {},
     "output_type": "execute_result"
    }
   ],
   "source": [
    "Δ = (resleft.minimum + resright.minimum)/2"
   ]
  },
  {
   "cell_type": "markdown",
   "metadata": {},
   "source": [
    "With a more precise estimation of Δ, we can estimate H1 more precisely.\n",
    "\n",
    "We optimize H1 for the value that provides the best fit between the two projection functions of the two images. We fit a 2nd degree polynomial without intercept to the projection functions $\\theta(\\rho) = a\\theta + b\\theta^2$.\n",
    "\n",
    "For higher order polynomial, simply adjust the `abfit` function accordingly."
   ]
  },
  {
   "cell_type": "code",
   "execution_count": 16,
   "metadata": {
    "collapsed": false
   },
   "outputs": [
    {
     "data": {
      "text/plain": [
       "15"
      ]
     },
     "execution_count": 16,
     "metadata": {},
     "output_type": "execute_result"
    }
   ],
   "source": [
    "# perpendicular ruler half width\n",
    "w = maximum(lens[lens[:position] .== \"perpendicular\", :ruler_cm ])"
   ]
  },
  {
   "cell_type": "code",
   "execution_count": 17,
   "metadata": {
    "collapsed": false
   },
   "outputs": [
    {
     "data": {
      "text/plain": [
       "projfunpoints (generic function with 1 method)"
      ]
     },
     "execution_count": 17,
     "metadata": {},
     "output_type": "execute_result"
    }
   ],
   "source": [
    "function projfunpoints(df, center, H)\n",
    "    θset = Float64[]\n",
    "    ρset = Int[]\n",
    "    for row = 1:size(df,1)\n",
    "        cm = df[row, :ruler_cm]\n",
    "        ρ = abs(df[row, :x_pic_pixels] - center)\n",
    "        if df[row, :position] == \"perpendicular\"\n",
    "            θ = atan(abs(cm) / H)\n",
    "        else\n",
    "            θ = atan(w / (H - cm))\n",
    "        end\n",
    "        push!(θset, θ)\n",
    "        push!(ρset, ρ)\n",
    "        #@show cm, ρ, df[row, :position], θ\n",
    "    end\n",
    "    θset, ρset\n",
    "end"
   ]
  },
  {
   "cell_type": "code",
   "execution_count": 18,
   "metadata": {
    "collapsed": false,
    "scrolled": true
   },
   "outputs": [
    {
     "data": {
      "text/plain": [
       "([1.50423,1.43824,1.3734,1.31019,1.24905,1.19029,1.13417,1.08084,1.03038,0.982794  …  0.291457,0.336675,0.380506,0.422854,0.463648,0.502843,0.54042,0.576375,0.610726,0.643501],[1558,1503,1445,1391,1331,1275,1218,1164,1113,1066  …  318,367,416,463,491,551,594,626,660,705])"
      ]
     },
     "execution_count": 18,
     "metadata": {},
     "output_type": "execute_result"
    }
   ],
   "source": [
    "lens1 = lens[lens[:H_Lens_distance] .== H1, :]\n",
    "θ1, ρ1 = projfunpoints(lens1,center1, H1)"
   ]
  },
  {
   "cell_type": "code",
   "execution_count": 19,
   "metadata": {
    "collapsed": true
   },
   "outputs": [],
   "source": [
    "using Winston"
   ]
  },
  {
   "cell_type": "code",
   "execution_count": 20,
   "metadata": {
    "collapsed": false
   },
   "outputs": [
    {
     "data": {
      "image/png": "[encoded data removed]",
      "text/plain": [
       "FramedPlot(...)"
      ]
     },
     "execution_count": 20,
     "metadata": {},
     "output_type": "execute_result"
    }
   ],
   "source": [
    "plot(θ1, ρ1, \"o\")"
   ]
  },
  {
   "cell_type": "code",
   "execution_count": 21,
   "metadata": {
    "collapsed": false
   },
   "outputs": [
    {
     "data": {
      "text/plain": [
       "abfit (generic function with 1 method)"
      ]
     },
     "execution_count": 21,
     "metadata": {},
     "output_type": "execute_result"
    }
   ],
   "source": [
    "function abfit(θ, ρ)\n",
    "    # fit ρ(θ) = aθ + bθ²\n",
    "    A = [θᵢ^p for θᵢ in θ, p = 1:2]\n",
    "    a,b = A \\ ρ\n",
    "end"
   ]
  },
  {
   "cell_type": "code",
   "execution_count": 22,
   "metadata": {
    "collapsed": false
   },
   "outputs": [
    {
     "name": "stdout",
     "output_type": "stream",
     "text": [
      "(a,b) = abfit(θ1,ρ1) => [1142.1319418290147,-67.51000575799131]\n"
     ]
    },
    {
     "data": {
      "image/png": "[encoded data removed]",
      "text/plain": [
       "FramedPlot(...)"
      ]
     },
     "execution_count": 22,
     "metadata": {},
     "output_type": "execute_result"
    }
   ],
   "source": [
    "@show a,b = abfit(θ1, ρ1)\n",
    "plot(θ1, ρ1, \"o\")\n",
    "oplot(θ -> a*θ + b*θ.^2, 0, pi/2, \"r\")"
   ]
  },
  {
   "cell_type": "code",
   "execution_count": 23,
   "metadata": {
    "collapsed": false
   },
   "outputs": [
    {
     "name": "stdout",
     "output_type": "stream",
     "text": [
      "(a2,b2) = abfit(θ2,ρ2) => [1147.905648591946,-73.17780611843375]\n"
     ]
    },
    {
     "data": {
      "image/png": "[encoded data removed]",
      "text/plain": [
       "FramedPlot(...)"
      ]
     },
     "execution_count": 23,
     "metadata": {},
     "output_type": "execute_result"
    }
   ],
   "source": [
    "lens2 = lens[lens[:H_Lens_distance] .== H2, :]\n",
    "θ2, ρ2 = projfunpoints(lens2,center1, H1+Δ)\n",
    "@show a2, b2 = abfit(θ2, ρ2)\n",
    "plot(θ2, ρ2, \"o\")\n",
    "oplot(θ -> a2*θ + b2*θ.^2, 0, pi/2, \"r\")"
   ]
  },
  {
   "cell_type": "code",
   "execution_count": 24,
   "metadata": {
    "collapsed": false
   },
   "outputs": [
    {
     "data": {
      "text/plain": [
       "2-element Array{Float64,1}:\n",
       " 1142.13\n",
       "  -67.51"
      ]
     },
     "execution_count": 24,
     "metadata": {},
     "output_type": "execute_result"
    }
   ],
   "source": [
    "abfit(projfunpoints(lens1,center1, H1)...)"
   ]
  },
  {
   "cell_type": "code",
   "execution_count": 25,
   "metadata": {
    "collapsed": false
   },
   "outputs": [
    {
     "data": {
      "text/plain": [
       "projfundiff (generic function with 1 method)"
      ]
     },
     "execution_count": 25,
     "metadata": {},
     "output_type": "execute_result"
    }
   ],
   "source": [
    "function projfundiff(H, Δ, lens1, lens2, center1, center2)\n",
    "    a1, b1 = abfit(projfunpoints(lens1, center1, H)...)\n",
    "    a2, b2 = abfit(projfunpoints(lens2, center2, H+Δ)...)\n",
    "    (a1 - a2).^2 + (b1-b2).^2\n",
    "end"
   ]
  },
  {
   "cell_type": "code",
   "execution_count": 26,
   "metadata": {
    "collapsed": false
   },
   "outputs": [
    {
     "data": {
      "text/plain": [
       "59.45542382815183"
      ]
     },
     "execution_count": 26,
     "metadata": {},
     "output_type": "execute_result"
    }
   ],
   "source": [
    "projfundiff(22, Δ,lens1, lens2, center1, center2)"
   ]
  },
  {
   "cell_type": "code",
   "execution_count": 27,
   "metadata": {
    "collapsed": false
   },
   "outputs": [
    {
     "data": {
      "text/plain": [
       "Results of Optimization Algorithm\n",
       " * Algorithm: Brent's Method\n",
       " * Search Interval: [10.000000, 40.000000]\n",
       " * Minimum: 21.114513\n",
       " * Value of Function at Minimum: 1.294852\n",
       " * Iterations: 10\n",
       " * Convergence: max(|x - x_upper|, |x - x_lower|) <= 2*(1.5e-08*|x|+2.2e-16): true\n",
       " * Objective Function Calls: 11\n"
      ]
     },
     "execution_count": 27,
     "metadata": {},
     "output_type": "execute_result"
    }
   ],
   "source": [
    "Hres = optimize(H->projfundiff(H, Δ, lens1, lens2, center1, center2), H1/2,H1*2)"
   ]
  },
  {
   "cell_type": "code",
   "execution_count": 28,
   "metadata": {
    "collapsed": false
   },
   "outputs": [
    {
     "data": {
      "text/plain": [
       "21.11451342244008"
      ]
     },
     "execution_count": 28,
     "metadata": {},
     "output_type": "execute_result"
    }
   ],
   "source": [
    "H = Hres.minimum"
   ]
  },
  {
   "cell_type": "code",
   "execution_count": 29,
   "metadata": {
    "collapsed": false
   },
   "outputs": [
    {
     "name": "stdout",
     "output_type": "stream",
     "text": [
      "(a1,b1) = abfit(projfunpoints(lens1,center1,H)...) => [1192.6856351102467,-66.4821622226864]\n",
      "(a2,b2) = abfit(projfunpoints(lens2,center2,H + Δ)...) => [1191.985605067407,-67.37927417625603]\n",
      "a = (a1 + a2) / 2 => 1192.335620088827\n",
      "b = (b1 + b2) / 2 => -66.93071819947122\n"
     ]
    },
    {
     "data": {
      "text/plain": [
       "-66.93071819947122"
      ]
     },
     "execution_count": 29,
     "metadata": {},
     "output_type": "execute_result"
    }
   ],
   "source": [
    "@show a1, b1 = abfit(projfunpoints(lens1, center1, H)...)\n",
    "@show a2, b2 = abfit(projfunpoints(lens2, center2, H+Δ)...)\n",
    "@show a = (a1 + a2)/2\n",
    "@show b = (b1 + b2)/2"
   ]
  },
  {
   "cell_type": "markdown",
   "metadata": {},
   "source": [
    "These lens projection function parameters include the maximum radius of the image. Simply divide by this radius to get a projection function in the interval [0, 1] that can be used generically with different camera's (that have different maximum radius)."
   ]
  }
 ],
 "metadata": {
  "kernelspec": {
   "display_name": "Julia 0.3.7",
   "language": "julia",
   "name": "julia 0.3"
  },
  "language_info": {
   "name": "julia",
   "version": "0.3.7"
  }
 },
 "nbformat": 4,
 "nbformat_minor": 0
}
